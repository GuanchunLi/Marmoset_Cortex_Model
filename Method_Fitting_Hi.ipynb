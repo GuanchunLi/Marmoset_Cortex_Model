{
 "cells": [
  {
   "cell_type": "code",
   "execution_count": 1,
   "id": "f6281751",
   "metadata": {},
   "outputs": [],
   "source": [
    "import numpy as np\n",
    "import matplotlib.pyplot as plt\n",
    "from scipy.optimize import minimize, Bounds, LinearConstraint\n",
    "from sklearn.manifold import SpectralEmbedding\n",
    "import pandas as pd \n",
    "\n",
    "import pre_functions_clean as pf\n",
    "import time_constant_shuffle_FLN as tc"
   ]
  },
  {
   "cell_type": "code",
   "execution_count": 2,
   "id": "c3e5a210",
   "metadata": {},
   "outputs": [
    {
     "name": "stdout",
     "output_type": "stream",
     "text": [
      "Initializing Model. From subgraph_data_marmoset.pkl load:\n",
      "dict_keys(['fln_mat', 'sln_mat', 'hier_vals', 'areas'])\n",
      "CONSENSUS_CASE=0\n",
      "No STRONG GBA\n",
      "Initializing Model. From subgraph_data_marmoset.pkl load:\n",
      "dict_keys(['fln_mat', 'sln_mat', 'hier_vals', 'areas'])\n",
      "CONSENSUS_CASE=0\n",
      "No STRONG GBA\n"
     ]
    },
    {
     "name": "stderr",
     "output_type": "stream",
     "text": [
      "G:\\其他计算机\\My Laptop\\Desktop\\2022Summer\\Research\\Large_Scale_Model\\Program\\pre_functions_clean.py:5551: ComplexWarning: Casting complex values to real discards the imaginary part\n",
      "  Corr_mat_E[i,j]=np.real(Cov_mat[2*i,2*j])/np.sqrt(Cov_mat[2*i,2*i]*Cov_mat[2*j,2*j])\n"
     ]
    }
   ],
   "source": [
    "MACAQUE_CASE=0\n",
    "CONSENSUS_CASE=0\n",
    "\n",
    "if MACAQUE_CASE: \n",
    "    if CONSENSUS_CASE:\n",
    "        datafile='subgraph_data_macaque_consensus.pkl'\n",
    "    else:\n",
    "        datafile='subgraph_data_macaque.pkl'\n",
    "else:\n",
    "    if CONSENSUS_CASE:\n",
    "        datafile='subgraph_data_marmoset_consensus.pkl'\n",
    "    else:\n",
    "        datafile='subgraph_data_marmoset.pkl'\n",
    "\n",
    "# Initilization & Compute correlation matrix\n",
    "p_ori = pf.load_data(datafile)\n",
    "p_ori,W = pf.genetate_net_connectivity(p_ori,LINEAR_HIER=0,IDENTICAL_HIER=0,LOCAL_IDENTICAL_HIERARCHY=0,ZERO_FLN=0,IDENTICAL_FLN=0,SHUFFLE_FLN=0,SHUFFLE_TYPE=0,STRONG_GBA=0,MACAQUE_CASE=MACAQUE_CASE,GATING_PATHWAY=0,LONGRANGE_EI_ASYMMETRY=0,CONSENSUS_CASE=CONSENSUS_CASE)\n",
    "exc_scale = p_ori['exc_scale']\n",
    "\n",
    "p = pf.load_data(datafile)\n",
    "# p = shuffle_hier(p)\n",
    "p,W = pf.genetate_net_connectivity(p,LINEAR_HIER=0,IDENTICAL_HIER=0,LOCAL_IDENTICAL_HIERARCHY=0,ZERO_FLN=0,IDENTICAL_FLN=0,SHUFFLE_FLN=0,SHUFFLE_TYPE=0,STRONG_GBA=0,MACAQUE_CASE=MACAQUE_CASE,GATING_PATHWAY=0,LONGRANGE_EI_ASYMMETRY=0,CONSENSUS_CASE=CONSENSUS_CASE\n",
    "                                   ,diverse_hi=4)\n",
    "corr_mat_E, cov_mat_E = pf.generate_func_connectivity(p, W)"
   ]
  },
  {
   "cell_type": "code",
   "execution_count": 3,
   "id": "5288c5bc",
   "metadata": {},
   "outputs": [],
   "source": [
    "# Fit part hi\n",
    "tau_exp = np.load('Data/Marmoset_Ji/Marmoset_Ji_Exp_Tau.npy')\n",
    "area_exp = list(np.load('Data/Marmoset_Ji/Marmoset_Ji_Exp_Area.npy'))\n",
    "tau_min = np.min(tau_exp)\n",
    "hi_fit = 1 - tau_min / tau_exp\n",
    "hi_exp = 0 * tau_exp\n",
    "ind_exp = 0 * tau_exp"
   ]
  },
  {
   "cell_type": "code",
   "execution_count": 4,
   "id": "ecd84430",
   "metadata": {},
   "outputs": [],
   "source": [
    "# Get full hi\n",
    "area_full = p['areas']\n",
    "hi_exp_full = p['hier_vals']\n",
    "for i in range(len(area_exp)):\n",
    "    ind_i = area_full.index(area_exp[i])\n",
    "    hi_exp[i] = hi_exp_full[ind_i]\n",
    "    ind_exp[i] = ind_i\n",
    "ind_order = np.argsort(ind_exp)"
   ]
  },
  {
   "cell_type": "code",
   "execution_count": 12,
   "id": "5225cff4",
   "metadata": {},
   "outputs": [],
   "source": [
    "def similar_tau(h):\n",
    "    # h = h / np.max(h)\n",
    "    tau = 1 / (1 - h + 1e-3)\n",
    "    return - np.corrcoef(tau, tau_exp)[0,1]\n",
    "\n",
    "def similar_gradient(h):\n",
    "    return - np.corrcoef(h, hi_exp)[0,1]\n",
    "\n",
    "def goal(h):\n",
    "    return similar_tau(h) + similar_gradient(h)\n",
    "\n",
    "def goal_x(x):\n",
    "    h_temp = np.cumsum(x)\n",
    "    h = np.zeros([len(h_temp)+1,])\n",
    "    h[ind_order[1::]] = h_temp\n",
    "    return goal(h)"
   ]
  },
  {
   "cell_type": "code",
   "execution_count": 13,
   "id": "809b7a4f",
   "metadata": {},
   "outputs": [],
   "source": [
    "h_test = minimize(goal, hi_exp)\n",
    "h_get = h_test['x']\n",
    "h_get = (h_get - np.min(h_get)) / (np.max(h_get) - np.min(h_get))\n",
    "hi_fit = h_get"
   ]
  },
  {
   "cell_type": "code",
   "execution_count": 14,
   "id": "c9108067",
   "metadata": {},
   "outputs": [],
   "source": [
    "hi_fit_full = np.zeros([len(area_full),])\n",
    "sigma = 0.05;\n",
    "for i in range(len(area_full)):\n",
    "    if area_full[i] in area_exp:\n",
    "        hi_fit_full[i] = hi_fit[area_exp.index(area_full[i])]\n",
    "    else:\n",
    "        dist_i = abs(hi_exp_full[i] - hi_exp)\n",
    "        weight_i =  np.exp(-(dist_i/sigma)**2); # 1/dist_i;\n",
    "        hi_fit_i = np.dot(weight_i, hi_exp) / np.sum(weight_i)\n",
    "        hi_fit_full[i] = hi_fit_i\n",
    "        # hi_fit_full[i] = 0\n",
    "hi_fit_full = (hi_fit_full - np.min(hi_fit_full)) / (np.max(hi_fit_full) - np.min(hi_fit_full))"
   ]
  },
  {
   "cell_type": "code",
   "execution_count": 15,
   "id": "96db544f",
   "metadata": {},
   "outputs": [],
   "source": [
    "hi_fit_new = hi_fit_full"
   ]
  },
  {
   "cell_type": "code",
   "execution_count": 16,
   "id": "b07b40d1",
   "metadata": {},
   "outputs": [
    {
     "data": {
      "text/plain": [
       "[<matplotlib.lines.Line2D at 0x22929cbed00>]"
      ]
     },
     "execution_count": 16,
     "metadata": {},
     "output_type": "execute_result"
    },
    {
     "data": {
      "image/png": "[encoded data removed]",
      "text/plain": [
       "<Figure size 432x288 with 1 Axes>"
      ]
     },
     "metadata": {
      "needs_background": "light"
     },
     "output_type": "display_data"
    }
   ],
   "source": [
    "plt.plot(hi_fit_new)"
   ]
  },
  {
   "cell_type": "code",
   "execution_count": 10,
   "id": "c7d6aa72",
   "metadata": {},
   "outputs": [],
   "source": [
    "# np.save('hier_vals_fit.npy', hi_fit_full)"
   ]
  },
  {
   "cell_type": "code",
   "execution_count": 23,
   "id": "b01046ef",
   "metadata": {},
   "outputs": [
    {
     "data": {
      "text/plain": [
       "array([0.      , 0.199037, 0.282678, 0.302499, 0.32583 , 0.327901,\n",
       "       0.348767, 0.356592, 0.383012, 0.427297, 0.450307, 0.47063 ,\n",
       "       0.485584, 0.491282, 0.495651, 0.501319, 0.505878, 0.517487,\n",
       "       0.546284, 0.554003, 0.564269, 0.576581, 0.57765 , 0.584183,\n",
       "       0.584402, 0.590339, 0.642642, 0.648122, 0.649583, 0.661737,\n",
       "       0.666191, 0.669293, 0.674474, 0.686275, 0.689966, 0.692454,\n",
       "       0.706569, 0.730936, 0.735132, 0.739906, 0.746087, 0.746558,\n",
       "       0.774342, 0.779863, 0.783527, 0.816584, 0.821142, 0.874052,\n",
       "       0.876127, 0.878034, 0.891529, 0.914878, 0.930073, 0.93874 ,\n",
       "       1.      ])"
      ]
     },
     "execution_count": 23,
     "metadata": {},
     "output_type": "execute_result"
    }
   ],
   "source": [
    "hi_exp_full"
   ]
  },
  {
   "cell_type": "code",
   "execution_count": null,
   "id": "8c3431d4",
   "metadata": {},
   "outputs": [],
   "source": []
  }
 ],
 "metadata": {
  "kernelspec": {
   "display_name": "Python 3 (ipykernel)",
   "language": "python",
   "name": "python3"
  },
  "language_info": {
   "codemirror_mode": {
    "name": "ipython",
    "version": 3
   },
   "file_extension": ".py",
   "mimetype": "text/x-python",
   "name": "python",
   "nbconvert_exporter": "python",
   "pygments_lexer": "ipython3",
   "version": "3.9.7"
  }
 },
 "nbformat": 4,
 "nbformat_minor": 5
}
